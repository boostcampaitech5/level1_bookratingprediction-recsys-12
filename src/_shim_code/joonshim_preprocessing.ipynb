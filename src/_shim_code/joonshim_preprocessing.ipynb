{
  "cells": [
    {
      "cell_type": "code",
      "execution_count": 3,
      "metadata": {
        "id": "DPhYARSYZy52"
      },
      "outputs": [],
      "source": [
        "import pandas as pd\n",
        "import numpy as np\n",
        "import os"
      ]
    },
    {
      "cell_type": "code",
      "execution_count": 6,
      "metadata": {
        "id": "XIxCz7AHuAsH"
      },
      "outputs": [],
      "source": [
        "base_path = \"../../data\"\n",
        "users_path = os.path.join(base_path, 'users.csv')\n",
        "books_path = os.path.join(base_path, 'books.csv')\n",
        "train_ratings_path = os.path.join(base_path, 'train_ratings.csv')\n",
        "test_ratings_path = os.path.join(base_path, 'test_ratings.csv')"
      ]
    },
    {
      "cell_type": "code",
      "execution_count": 7,
      "metadata": {
        "id": "IJ58Y-DXiney"
      },
      "outputs": [],
      "source": [
        "raw_users = pd.read_csv(users_path)\n",
        "raw_books = pd.read_csv(books_path)\n",
        "raw_ratings = pd.read_csv(train_ratings_path)\n",
        "train_ratings = pd.read_csv(train_ratings_path)\n",
        "test_ratings = pd.read_csv(test_ratings_path)"
      ]
    },
    {
      "cell_type": "code",
      "execution_count": 13,
      "metadata": {},
      "outputs": [
        {
          "data": {
            "text/html": [
              "<div>\n",
              "<style scoped>\n",
              "    .dataframe tbody tr th:only-of-type {\n",
              "        vertical-align: middle;\n",
              "    }\n",
              "\n",
              "    .dataframe tbody tr th {\n",
              "        vertical-align: top;\n",
              "    }\n",
              "\n",
              "    .dataframe thead th {\n",
              "        text-align: right;\n",
              "    }\n",
              "</style>\n",
              "<table border=\"1\" class=\"dataframe\">\n",
              "  <thead>\n",
              "    <tr style=\"text-align: right;\">\n",
              "      <th></th>\n",
              "      <th>isbn</th>\n",
              "      <th>book_title</th>\n",
              "      <th>book_author</th>\n",
              "      <th>year_of_publication</th>\n",
              "      <th>publisher</th>\n",
              "      <th>img_url</th>\n",
              "      <th>language</th>\n",
              "      <th>category</th>\n",
              "      <th>summary</th>\n",
              "      <th>img_path</th>\n",
              "    </tr>\n",
              "  </thead>\n",
              "  <tbody>\n",
              "    <tr>\n",
              "      <th>0</th>\n",
              "      <td>0002005018</td>\n",
              "      <td>Clara Callan</td>\n",
              "      <td>Richard Bruce Wright</td>\n",
              "      <td>2001.0</td>\n",
              "      <td>HarperFlamingo Canada</td>\n",
              "      <td>http://images.amazon.com/images/P/0002005018.0...</td>\n",
              "      <td>en</td>\n",
              "      <td>['Actresses']</td>\n",
              "      <td>In a small town in Canada, Clara Callan reluct...</td>\n",
              "      <td>images/0002005018.01.THUMBZZZ.jpg</td>\n",
              "    </tr>\n",
              "    <tr>\n",
              "      <th>1</th>\n",
              "      <td>0060973129</td>\n",
              "      <td>Decision in Normandy</td>\n",
              "      <td>Carlo D'Este</td>\n",
              "      <td>1991.0</td>\n",
              "      <td>HarperPerennial</td>\n",
              "      <td>http://images.amazon.com/images/P/0060973129.0...</td>\n",
              "      <td>en</td>\n",
              "      <td>['1940-1949']</td>\n",
              "      <td>Here, for the first time in paperback, is an o...</td>\n",
              "      <td>images/0060973129.01.THUMBZZZ.jpg</td>\n",
              "    </tr>\n",
              "    <tr>\n",
              "      <th>2</th>\n",
              "      <td>0374157065</td>\n",
              "      <td>Flu: The Story of the Great Influenza Pandemic...</td>\n",
              "      <td>Gina Bari Kolata</td>\n",
              "      <td>1999.0</td>\n",
              "      <td>Farrar Straus Giroux</td>\n",
              "      <td>http://images.amazon.com/images/P/0374157065.0...</td>\n",
              "      <td>en</td>\n",
              "      <td>['Medical']</td>\n",
              "      <td>Describes the great flu epidemic of 1918, an o...</td>\n",
              "      <td>images/0374157065.01.THUMBZZZ.jpg</td>\n",
              "    </tr>\n",
              "    <tr>\n",
              "      <th>3</th>\n",
              "      <td>0399135782</td>\n",
              "      <td>The Kitchen God's Wife</td>\n",
              "      <td>Amy Tan</td>\n",
              "      <td>1991.0</td>\n",
              "      <td>Putnam Pub Group</td>\n",
              "      <td>http://images.amazon.com/images/P/0399135782.0...</td>\n",
              "      <td>en</td>\n",
              "      <td>['Fiction']</td>\n",
              "      <td>A Chinese immigrant who is convinced she is dy...</td>\n",
              "      <td>images/0399135782.01.THUMBZZZ.jpg</td>\n",
              "    </tr>\n",
              "    <tr>\n",
              "      <th>4</th>\n",
              "      <td>0425176428</td>\n",
              "      <td>What If?: The World's Foremost Military Histor...</td>\n",
              "      <td>Robert Cowley</td>\n",
              "      <td>2000.0</td>\n",
              "      <td>Berkley Publishing Group</td>\n",
              "      <td>http://images.amazon.com/images/P/0425176428.0...</td>\n",
              "      <td>en</td>\n",
              "      <td>['History']</td>\n",
              "      <td>Essays by respected military historians, inclu...</td>\n",
              "      <td>images/0425176428.01.THUMBZZZ.jpg</td>\n",
              "    </tr>\n",
              "  </tbody>\n",
              "</table>\n",
              "</div>"
            ],
            "text/plain": [
              "         isbn                                         book_title  \\\n",
              "0  0002005018                                       Clara Callan   \n",
              "1  0060973129                               Decision in Normandy   \n",
              "2  0374157065  Flu: The Story of the Great Influenza Pandemic...   \n",
              "3  0399135782                             The Kitchen God's Wife   \n",
              "4  0425176428  What If?: The World's Foremost Military Histor...   \n",
              "\n",
              "            book_author  year_of_publication                 publisher  \\\n",
              "0  Richard Bruce Wright               2001.0     HarperFlamingo Canada   \n",
              "1          Carlo D'Este               1991.0           HarperPerennial   \n",
              "2      Gina Bari Kolata               1999.0      Farrar Straus Giroux   \n",
              "3               Amy Tan               1991.0          Putnam Pub Group   \n",
              "4         Robert Cowley               2000.0  Berkley Publishing Group   \n",
              "\n",
              "                                             img_url language       category  \\\n",
              "0  http://images.amazon.com/images/P/0002005018.0...       en  ['Actresses']   \n",
              "1  http://images.amazon.com/images/P/0060973129.0...       en  ['1940-1949']   \n",
              "2  http://images.amazon.com/images/P/0374157065.0...       en    ['Medical']   \n",
              "3  http://images.amazon.com/images/P/0399135782.0...       en    ['Fiction']   \n",
              "4  http://images.amazon.com/images/P/0425176428.0...       en    ['History']   \n",
              "\n",
              "                                             summary  \\\n",
              "0  In a small town in Canada, Clara Callan reluct...   \n",
              "1  Here, for the first time in paperback, is an o...   \n",
              "2  Describes the great flu epidemic of 1918, an o...   \n",
              "3  A Chinese immigrant who is convinced she is dy...   \n",
              "4  Essays by respected military historians, inclu...   \n",
              "\n",
              "                            img_path  \n",
              "0  images/0002005018.01.THUMBZZZ.jpg  \n",
              "1  images/0060973129.01.THUMBZZZ.jpg  \n",
              "2  images/0374157065.01.THUMBZZZ.jpg  \n",
              "3  images/0399135782.01.THUMBZZZ.jpg  \n",
              "4  images/0425176428.01.THUMBZZZ.jpg  "
            ]
          },
          "execution_count": 13,
          "metadata": {},
          "output_type": "execute_result"
        }
      ],
      "source": [
        "raw_books.head()"
      ]
    },
    {
      "cell_type": "code",
      "execution_count": 8,
      "metadata": {
        "id": "XReyLNIGEDJU"
      },
      "outputs": [],
      "source": [
        "def users_preprocess(raw_users) :\n",
        "    users = raw_users.copy()\n",
        "\n",
        "    # age (median impute)\n",
        "    users['age'].fillna(users['age'].median(), inplace=True)\n",
        "    bins = [0, 10, 20, 30, 40, 50, 60, 70, 100]\n",
        "    users['age_bin'] = pd.cut(x=users['age'], bins=bins, right=False, labels=range(8))\n",
        "\n",
        "    \n",
        "    # location\n",
        "    users['city'] = users['location'].apply(lambda x: x.split(',')[0].strip())\n",
        "    users['state'] = users['location'].apply(lambda x: x.split(',')[1].strip())\n",
        "    users['country'] = users['location'].apply(lambda x: x.split(',')[2].strip())\n",
        "    users = users.replace('n/a', np.nan)\n",
        "    users = users.replace('', np.nan)\n",
        "    users.fillna('unknown', inplace=True)\n",
        "    users.drop(columns=['location'], inplace=True)\n",
        "    \n",
        "    city_state_map = dict(users.groupby('city')['state']\n",
        "                          .value_counts().sort_values().index.tolist())\n",
        "    city_country_map = dict(users.groupby('city')['country']\n",
        "                            .value_counts().sort_values().index.tolist())\n",
        "    users['state'] = users['city'].map(city_state_map)\n",
        "    users['country'] = users['city'].map(city_country_map)\n",
        "    \n",
        "    # users['location'] = users['country'].copy()\n",
        "    # users['location'] = np.where(users['location']=='usa',\n",
        "    #                          users['state'],\n",
        "    #                          users['location'])\n",
        "    # users['location'].fillna('na', inplace=True)\n",
        "        \n",
        "    return users"
      ]
    },
    {
      "cell_type": "code",
      "execution_count": null,
      "metadata": {
        "id": "bQC9WW0SIL3x"
      },
      "outputs": [],
      "source": [
        "# def isbn_area(isbn) :\n",
        "#     if isbn[0] in ('0', '1') : # English\n",
        "#         return '1'\n",
        "#     if isbn[0] in ('2', '3', '4', '5', '7', '8') : # French, German, Japan, USSR, China\n",
        "#         return isbn[0]\n",
        "#     # 6으로 시작하는 경우 없음\n",
        "#     if isbn[0] == '8' :\n",
        "#         return isbn[:2]\n",
        "#     if isbn[0] == '9' :\n",
        "#         if int(isbn[:2]) < 95 :\n",
        "#             return isbn[:2]\n",
        "#         if int(isbn[:2]) < 99 :\n",
        "#             return isbn[:3]\n",
        "#         else :\n",
        "#             return isbn[:4]\n",
        "#     else :\n",
        "#         return 'others'"
      ]
    },
    {
      "cell_type": "code",
      "execution_count": 9,
      "metadata": {
        "id": "KHiX7XrKEazc"
      },
      "outputs": [],
      "source": [
        "def isbn_area(isbn) :\n",
        "    if isbn[0] in ('0', '1') : # English\n",
        "        return '1'\n",
        "    if isbn[0] in ('2', '3', '8') : # major\n",
        "        return isbn[0]\n",
        "    # 6으로 시작하는 경우 없음\n",
        "    else :\n",
        "        return 'others'"
      ]
    },
    {
      "cell_type": "code",
      "execution_count": 10,
      "metadata": {
        "id": "QMUxW7ZFEDJW"
      },
      "outputs": [],
      "source": [
        "def books_ratings_preprocess(raw_books, raw_ratings) :\n",
        "    books = raw_books.copy()\n",
        "    ratings = raw_ratings.merge(raw_books[['isbn', 'img_url']], how='left', on='isbn')\n",
        "    \n",
        "    # isbn\n",
        "    ratings['isbn'] = ratings['img_url'].apply(lambda x: x.split('P/')[1][:10])\n",
        "    books['isbn'] = books['img_url'].apply(lambda x: x.split('P/')[1][:10])\n",
        "    \n",
        "    # book_author\n",
        "    books['book_author'] = books['book_author'].str\\\n",
        "                        .lower().replace('[^0-9a-zA-Z]', '', regex=True)\n",
        "    \n",
        "    # year_of_publication\n",
        "    bins = [0, 1900, 1950, 1960, 1970, 1980, 1990, 2000, 2010]\n",
        "    books['year_of_publication'] = pd.cut(x=books['year_of_publication'],\n",
        "                                          bins=bins, right=False, labels=range(8))\n",
        "    \n",
        "    # publisher\n",
        "    books['publisher'] = books['publisher'].str\\\n",
        "                     .lower().replace('[^0-9a-zA-Z]', '', regex=True)\n",
        "    \n",
        "    # category\n",
        "    books['category'] = books['category'].str\\\n",
        "                        .lower().replace('[^0-9a-zA-Z]', '', regex=True)\n",
        "    author_cat_map = dict(books.groupby('book_author')['category']\n",
        "                      .value_counts().sort_values().index.tolist())\n",
        "    books['category'] = books['book_author'].map(author_cat_map)\n",
        "    publisher_cat_map = dict(books.groupby('publisher')['category']\n",
        "                      .value_counts().sort_values().index.tolist())\n",
        "    books['category'] = books['category'].fillna(\n",
        "                        books['publisher'].map(publisher_cat_map))\n",
        "    books['category'].fillna('na', inplace=True)\n",
        "    major_cat = ['fiction', 'juvenilefiction', 'juvenilenonfiction', 'biography',\n",
        "            'histor', 'religio', 'science', 'social', 'politic', 'humor',\n",
        "            'spirit', 'business', 'cook', 'health', 'famil', 'computer',\n",
        "            'travel', 'self', 'poet', 'language', 'art', 'language art',\n",
        "            'literary', 'criticism', 'nature', 'philosoph', 'reference', 'drama',\n",
        "            'sport', 'transportation', 'comic', 'craft', 'education', 'crime',\n",
        "            'music', 'animal', 'garden', 'detective', 'house', 'tech', 'photograph',\n",
        "            'adventure', 'game', 'architect', 'law', 'antique', 'friend',\n",
        "            'sciencefiction', 'fantasy', 'mathematic', 'design', 'actor',\n",
        "            'horror', 'adultery']\n",
        "    books['major_cat'] = books['category'].copy()\n",
        "    for category in major_cat :\n",
        "        books['major_cat'] = np.where(books['category'].str.contains(category),\n",
        "                                     category, books['major_cat'])\n",
        "        \n",
        "    # summary\n",
        "    books['summary'] = np.where(books['summary'].notnull(), 1, 0)\n",
        "    \n",
        "    # isbn_area\n",
        "    books['isbn_area'] = books['isbn'].apply(isbn_area)\n",
        "\n",
        "    ratings.drop(columns=['img_url'], inplace=True)\n",
        "    books.drop(columns=['book_title', 'img_url', 'category', 'summary', 'img_path'],\n",
        "               inplace=True)\n",
        "    \n",
        "    return books, ratings"
      ]
    },
    {
      "cell_type": "code",
      "execution_count": 11,
      "metadata": {
        "id": "diLYjWz8EDJW"
      },
      "outputs": [],
      "source": [
        "users = users_preprocess(raw_users)\n",
        "books, ratings = books_ratings_preprocess(raw_books, raw_ratings)"
      ]
    },
    {
      "cell_type": "code",
      "execution_count": 14,
      "metadata": {},
      "outputs": [],
      "source": [
        "books.to_csv('books.csv', index=False)"
      ]
    },
    {
      "cell_type": "code",
      "execution_count": 15,
      "metadata": {},
      "outputs": [],
      "source": [
        "ratings.to_csv(\"ratings.csv\", index=False)"
      ]
    },
    {
      "cell_type": "code",
      "execution_count": null,
      "metadata": {},
      "outputs": [],
      "source": []
    }
  ],
  "metadata": {
    "colab": {
      "provenance": []
    },
    "kernelspec": {
      "display_name": "Python 3",
      "name": "python3"
    },
    "language_info": {
      "codemirror_mode": {
        "name": "ipython",
        "version": 3
      },
      "file_extension": ".py",
      "mimetype": "text/x-python",
      "name": "python",
      "nbconvert_exporter": "python",
      "pygments_lexer": "ipython3",
      "version": "3.10.8"
    }
  },
  "nbformat": 4,
  "nbformat_minor": 0
}
