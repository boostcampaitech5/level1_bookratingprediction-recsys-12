{
 "cells": [
  {
   "cell_type": "markdown",
   "id": "7ac12367",
   "metadata": {},
   "source": [
    "## Load Data"
   ]
  },
  {
   "cell_type": "code",
   "execution_count": 7,
   "id": "be9531fc",
   "metadata": {
    "tags": []
   },
   "outputs": [],
   "source": [
    "import os\n",
    "import pandas as pd\n",
    "import numpy as np\n",
    "from datetime import datetime"
   ]
  },
  {
   "cell_type": "code",
   "execution_count": 15,
   "id": "3918bc31",
   "metadata": {
    "tags": []
   },
   "outputs": [],
   "source": [
    "root_path = os.path.join(os.getcwd(), 'data/')\n",
    "\n",
    "raw_users = pd.read_csv(root_path + 'users.csv')\n",
    "raw_books = pd.read_csv(root_path + 'books.csv')\n",
    "raw_ratings = pd.read_csv(root_path + 'train_ratings.csv')\n",
    "\n",
    "train_ratings = pd.read_csv('./data/train_ratings.csv')\n",
    "test_ratings = pd.read_csv('./data/test_ratings.csv')"
   ]
  },
  {
   "cell_type": "markdown",
   "id": "07a2ea54",
   "metadata": {},
   "source": [
    "## users 전처리 함수\n",
    "- location\n",
    "    - 소문자 변환, 공백 및 특수문자 삭제\n",
    "    - , 기준으로 앞에서부터 city, state, country 분리\n",
    "    - state 결측치에 city 기준으로 최빈 state 대체\n",
    "    - country 결측치에 city 기준으로 최빈 country 대체\n",
    "    - 미국이면 state 사용, 그외는 country 사용\n",
    "    - 결측치는 'na' 입력\n",
    "- age\n",
    "    - 결측치는 0 입력\n",
    "    - 결측치, 20세 미만부터 70세 미만, 70세 이상 100세 미만 총 8개 구간으로 범주화\n",
    "- (선택) 데이터가 적은 class는 others로 통합\n",
    "    - location\n",
    "    - 시간이 오래 걸림"
   ]
  },
  {
   "cell_type": "code",
   "execution_count": 16,
   "id": "4d8af1a2",
   "metadata": {
    "run_control": {
     "marked": true
    },
    "tags": []
   },
   "outputs": [],
   "source": [
    "def users_preprocess(raw_users) :\n",
    "    users = raw_users.copy()\n",
    "    \n",
    "    # location\n",
    "    users['location'] = users['location'].str.lower().replace('[^0-9a-zA-Z:,]', '', regex=True)\n",
    "    users['city'] = users['location'].apply(lambda x: x.split(',')[-3].strip())\n",
    "    users['state'] = users['location'].apply(lambda x: x.split(',')[-2].strip())\n",
    "    users['country'] = users['location'].apply(lambda x: x.split(',')[-1].strip())\n",
    "    users = users.replace('na', np.nan)\n",
    "    users = users.replace('', np.nan)\n",
    "    users.drop(columns=['location'], inplace=True)\n",
    "    \n",
    "    city_state_map = dict(users.groupby('city')['state']\n",
    "                          .value_counts().sort_values().index.tolist())\n",
    "    city_country_map = dict(users.groupby('city')['country']\n",
    "                            .value_counts().sort_values().index.tolist())\n",
    "    users['state'] = users['city'].map(city_state_map)\n",
    "    users['country'] = users['city'].map(city_country_map)\n",
    "    \n",
    "    # users['location'] = users['country'].copy()\n",
    "    # users['location'] = np.where(users['location']=='usa',\n",
    "    #                          users['state'],\n",
    "    #                          users['location'])\n",
    "    # users['location'].fillna('na', inplace=True)\n",
    "    \n",
    "    users['country'].fillna('na', inplace=True)\n",
    "    users['state'].fillna('na', inplace=True)\n",
    "    users['city'].fillna('na', inplace=True)\n",
    "    \n",
    "    # age\n",
    "    users['age'].fillna(0, inplace=True)\n",
    "    bins = [0, 1, 20, 30, 40, 50, 60, 70, 100]\n",
    "    users['age_bin'] = pd.cut(x=users['age'], bins=bins, right=False, labels=range(8))\n",
    "#########\n",
    "    # 선택\n",
    "    # location_cnt = users['location'].value_counts()\n",
    "    # low_cnt_location = location_cnt[location_cnt < 10].index.tolist()\n",
    "    # for location in low_cnt_location :\n",
    "    #     users['location'] = np.where(users['location']==location,\n",
    "    #                                  'others', users['location'])\n",
    "##########\n",
    "    users.drop(columns=['age'], inplace=True)\n",
    "    \n",
    "    return users"
   ]
  },
  {
   "cell_type": "code",
   "execution_count": 17,
   "id": "64d44c04",
   "metadata": {
    "tags": []
   },
   "outputs": [],
   "source": [
    "users = users_preprocess(raw_users)"
   ]
  },
  {
   "cell_type": "code",
   "execution_count": 18,
   "id": "65822c24-6d29-4153-a947-6d1a64f516c8",
   "metadata": {
    "tags": []
   },
   "outputs": [
    {
     "data": {
      "text/html": [
       "<div>\n",
       "<style scoped>\n",
       "    .dataframe tbody tr th:only-of-type {\n",
       "        vertical-align: middle;\n",
       "    }\n",
       "\n",
       "    .dataframe tbody tr th {\n",
       "        vertical-align: top;\n",
       "    }\n",
       "\n",
       "    .dataframe thead th {\n",
       "        text-align: right;\n",
       "    }\n",
       "</style>\n",
       "<table border=\"1\" class=\"dataframe\">\n",
       "  <thead>\n",
       "    <tr style=\"text-align: right;\">\n",
       "      <th></th>\n",
       "      <th>user_id</th>\n",
       "      <th>city</th>\n",
       "      <th>state</th>\n",
       "      <th>country</th>\n",
       "      <th>age_bin</th>\n",
       "    </tr>\n",
       "  </thead>\n",
       "  <tbody>\n",
       "    <tr>\n",
       "      <th>0</th>\n",
       "      <td>8</td>\n",
       "      <td>timmins</td>\n",
       "      <td>ontario</td>\n",
       "      <td>canada</td>\n",
       "      <td>0</td>\n",
       "    </tr>\n",
       "    <tr>\n",
       "      <th>1</th>\n",
       "      <td>11400</td>\n",
       "      <td>ottawa</td>\n",
       "      <td>ontario</td>\n",
       "      <td>canada</td>\n",
       "      <td>4</td>\n",
       "    </tr>\n",
       "    <tr>\n",
       "      <th>2</th>\n",
       "      <td>11676</td>\n",
       "      <td>na</td>\n",
       "      <td>na</td>\n",
       "      <td>na</td>\n",
       "      <td>0</td>\n",
       "    </tr>\n",
       "    <tr>\n",
       "      <th>3</th>\n",
       "      <td>67544</td>\n",
       "      <td>toronto</td>\n",
       "      <td>ontario</td>\n",
       "      <td>canada</td>\n",
       "      <td>3</td>\n",
       "    </tr>\n",
       "    <tr>\n",
       "      <th>4</th>\n",
       "      <td>85526</td>\n",
       "      <td>victoria</td>\n",
       "      <td>britishcolumbia</td>\n",
       "      <td>canada</td>\n",
       "      <td>3</td>\n",
       "    </tr>\n",
       "    <tr>\n",
       "      <th>...</th>\n",
       "      <td>...</td>\n",
       "      <td>...</td>\n",
       "      <td>...</td>\n",
       "      <td>...</td>\n",
       "      <td>...</td>\n",
       "    </tr>\n",
       "    <tr>\n",
       "      <th>68087</th>\n",
       "      <td>278376</td>\n",
       "      <td>danville</td>\n",
       "      <td>california</td>\n",
       "      <td>usa</td>\n",
       "      <td>5</td>\n",
       "    </tr>\n",
       "    <tr>\n",
       "      <th>68088</th>\n",
       "      <td>278621</td>\n",
       "      <td>victoria</td>\n",
       "      <td>britishcolumbia</td>\n",
       "      <td>canada</td>\n",
       "      <td>7</td>\n",
       "    </tr>\n",
       "    <tr>\n",
       "      <th>68089</th>\n",
       "      <td>278636</td>\n",
       "      <td>irvington</td>\n",
       "      <td>newyork</td>\n",
       "      <td>usa</td>\n",
       "      <td>0</td>\n",
       "    </tr>\n",
       "    <tr>\n",
       "      <th>68090</th>\n",
       "      <td>278659</td>\n",
       "      <td>vancouver</td>\n",
       "      <td>britishcolumbia</td>\n",
       "      <td>canada</td>\n",
       "      <td>3</td>\n",
       "    </tr>\n",
       "    <tr>\n",
       "      <th>68091</th>\n",
       "      <td>278713</td>\n",
       "      <td>albuquerque</td>\n",
       "      <td>newmexico</td>\n",
       "      <td>usa</td>\n",
       "      <td>6</td>\n",
       "    </tr>\n",
       "  </tbody>\n",
       "</table>\n",
       "<p>68092 rows × 5 columns</p>\n",
       "</div>"
      ],
      "text/plain": [
       "       user_id         city            state country age_bin\n",
       "0            8      timmins          ontario  canada       0\n",
       "1        11400       ottawa          ontario  canada       4\n",
       "2        11676           na               na      na       0\n",
       "3        67544      toronto          ontario  canada       3\n",
       "4        85526     victoria  britishcolumbia  canada       3\n",
       "...        ...          ...              ...     ...     ...\n",
       "68087   278376     danville       california     usa       5\n",
       "68088   278621     victoria  britishcolumbia  canada       7\n",
       "68089   278636    irvington          newyork     usa       0\n",
       "68090   278659    vancouver  britishcolumbia  canada       3\n",
       "68091   278713  albuquerque        newmexico     usa       6\n",
       "\n",
       "[68092 rows x 5 columns]"
      ]
     },
     "execution_count": 18,
     "metadata": {},
     "output_type": "execute_result"
    }
   ],
   "source": [
    "users"
   ]
  },
  {
   "cell_type": "markdown",
   "id": "3276728b",
   "metadata": {},
   "source": [
    "## books 전처리 함수\n",
    "- isbn \n",
    "    - img_url 에서 파싱해서 대체\n",
    "    - books, ratings 같이 처리\n",
    "- book_author\n",
    "    - 소문자 변환, 공백 및 특수문자 삭제\n",
    "- year_of_publication\n",
    "    - 1950년 이전 ~ 2010년 이전까지 7개 구간으로 범주화\n",
    "- publisher\n",
    "    - 소문자 변환, 공백 및 특수문자 삭제\n",
    "- category -> major_cat\n",
    "    - 소문자 변환, 공백 및 특수문자 삭제\n",
    "    - 동일 저자에 대해 최빈 카테고리로 통일\n",
    "        - ex) 저자가 stephenking인 모든 책의 카테고리는 fiction\n",
    "    - 남은 결측치에 대해서 출판사의 최빈 카테고리 적용 (통일은 X)\n",
    "    - 그래도 남은 결측치에는 'na'\n",
    "    - 최종적으로 같은 카테고리로 분류 가능한 경우를 묶어서 major_cat으로 정리\n",
    "- summary\n",
    "    - 있으면 1, 없으면 0으로 변환\n",
    "- isbn_area\n",
    "    - 참고 : https://en.wikipedia.org/wiki/List_of_ISBN_registration_groups\n",
    "    - isbn의 접두사 부분을 파싱해 책이 출판된 국가/지역/언어권 구분\n",
    "- book_title, img_url, img_path, language, category\n",
    "    - 삭제\n",
    "- (선택) 데이터가 적은 class는 others로 통합\n",
    "    - author, publisher, major_cat, isbn_area\n",
    "    - 시간이 오래 걸림"
   ]
  },
  {
   "cell_type": "code",
   "execution_count": 20,
   "id": "5bfa3b51",
   "metadata": {
    "tags": []
   },
   "outputs": [],
   "source": [
    "def isbn_area(isbn) :\n",
    "    if isbn[0] in ('0', '1') :\n",
    "        return '1'\n",
    "    if isbn[0] in ('2', '3', '4', '5', '7') :\n",
    "        return isbn[0]\n",
    "    # 6으로 시작하는 경우 없음\n",
    "    if isbn[0] == '8' :\n",
    "        return isbn[:2]\n",
    "    if isbn[0] == '9' :\n",
    "        if int(isbn[:2]) < 95 :\n",
    "            return isbn[:2]\n",
    "        if int(isbn[:2]) < 99 :\n",
    "            return isbn[:3]\n",
    "        else :\n",
    "            return isbn[:4]\n",
    "    else :\n",
    "        return 'others'\n",
    "\n",
    "def books_ratings_preprocess(raw_books, raw_ratings) :\n",
    "    books = raw_books.copy()\n",
    "    ratings = raw_ratings.merge(raw_books[['isbn', 'img_url']], how='left', on='isbn')\n",
    "    \n",
    "    # isbn\n",
    "    ratings['isbn'] = ratings['img_url'].apply(lambda x: x.split('P/')[1][:10])\n",
    "    books['isbn'] = books['img_url'].apply(lambda x: x.split('P/')[1][:10])\n",
    "    \n",
    "    # book_author\n",
    "    books['book_author'] = books['book_author'].str\\\n",
    "                        .lower().replace('[^0-9a-zA-Z]', '', regex=True)\n",
    "    \n",
    "    # year_of_publication\n",
    "    bins = [0, 1950, 1960, 1970, 1980, 1990, 2000, 2010]\n",
    "    books['year_of_publication'] = pd.cut(x=books['year_of_publication'],\n",
    "                                          bins=bins, right=False, labels=range(7))\n",
    "    \n",
    "    # publisher\n",
    "    books['publisher'] = books['publisher'].str\\\n",
    "                        .lower().replace('[^0-9a-zA-Z]', '', regex=True)\n",
    "    \n",
    "    # category\n",
    "    books['category'] = books['category'].str\\\n",
    "                        .lower().replace('[^0-9a-zA-Z]', '', regex=True)\n",
    "    author_cat_map = dict(books.groupby('book_author')['category']\n",
    "                      .value_counts().sort_values().index.tolist())\n",
    "    books['category'] = books['book_author'].map(author_cat_map)\n",
    "    publisher_cat_map = dict(books.groupby('publisher')['category']\n",
    "                      .value_counts().sort_values().index.tolist())\n",
    "    books['category'] = books['category'].fillna(\n",
    "                        books['publisher'].map(publisher_cat_map))\n",
    "    books['category'].fillna('na', inplace=True)\n",
    "    major_cat = ['fiction', 'juvenilefiction', 'juvenilenonfiction', 'biography',\n",
    "            'histor', 'religio', 'science', 'social', 'politic', 'humor',\n",
    "            'spirit', 'business', 'cook', 'health', 'famil', 'computer',\n",
    "            'travel', 'self', 'poet', 'language', 'art', 'language art',\n",
    "            'literary', 'criticism', 'nature', 'philosoph', 'reference', 'drama',\n",
    "            'sport', 'transportation', 'comic', 'craft', 'education', 'crime',\n",
    "            'music', 'animal', 'garden', 'detective', 'house', 'tech', 'photograph',\n",
    "            'adventure', 'game', 'architect', 'law', 'antique', 'friend',\n",
    "            'sciencefiction', 'fantasy', 'mathematic', 'design', 'actor',\n",
    "            'horror', 'adultery']\n",
    "    books['major_cat'] = books['category'].copy()\n",
    "    for category in major_cat :\n",
    "        books['major_cat'] = np.where(books['category'].str.contains(category),\n",
    "                                     category, books['major_cat'])\n",
    "        \n",
    "    # summary\n",
    "    books['summary'] = np.where(books['summary'].notnull(), 1, 0)\n",
    "    \n",
    "    # isbn_area\n",
    "    books['isbn_area'] = books['isbn'].apply(isbn_area)\n",
    "    \n",
    "#     # 선택\n",
    "#     aut_cnt = books['book_author'].value_counts()\n",
    "#     low_cnt_aut = aut_cnt[aut_cnt < 10].index.tolist()\n",
    "#     for aut in low_cnt_aut :\n",
    "#         books['book_author'] = np.where(books['book_author']==aut,\n",
    "#                                      'others', books['book_author'])\n",
    "\n",
    "\n",
    "#     # 선택\n",
    "#     pub_cnt = books['publisher'].value_counts()\n",
    "#     low_cnt_pub = pub_cnt[pub_cnt < 10].index.tolist()\n",
    "#     for pub in low_cnt_pub :\n",
    "#         books['publisher'] = np.where(books['publisher']==pub,\n",
    "#                                      'others', books['publisher'])\n",
    "\n",
    "\n",
    "#     # 선택\n",
    "#     cat_cnt = books['major_cat'].value_counts()\n",
    "#     low_cnt_cat = cat_cnt[cat_cnt < 10].index.tolist()\n",
    "#     for cat in low_cnt_cat :\n",
    "#         books['major_cat'] = np.where(books['major_cat']==cat,\n",
    "#                                      'others', books['major_cat'])\n",
    "\n",
    "\n",
    "#     # 선택\n",
    "#     area_cnt = books['isbn_area'].value_counts()\n",
    "#     low_cnt_area = area_cnt[area_cnt < 10].index.tolist()\n",
    "#     for area in low_cnt_cat :\n",
    "#         books['isbn_area'] = np.where(books['isbn_area']==area,\n",
    "#                                      'others', books['isbn_area'])\n",
    "    \n",
    "    \n",
    "    \n",
    "    ratings.drop(columns=['img_url'], inplace=True)\n",
    "    books.drop(columns=['book_title', 'img_url', 'language', 'category', 'img_path'],\n",
    "               inplace=True)\n",
    "    \n",
    "    return books, ratings\n",
    "    "
   ]
  },
  {
   "cell_type": "code",
   "execution_count": 21,
   "id": "a36cb4b7",
   "metadata": {
    "tags": []
   },
   "outputs": [],
   "source": [
    "books, ratings = books_ratings_preprocess(raw_books, raw_ratings)"
   ]
  },
  {
   "cell_type": "code",
   "execution_count": 93,
   "id": "138fc9dc-3f27-4263-b76d-2c867b5daadc",
   "metadata": {
    "tags": []
   },
   "outputs": [],
   "source": [
    "# users.to_csv('minho_users.csv')\n",
    "# books.to_csv('minho_books.csv')\n",
    "# ratings.to_csv('minho_ratings.csv')"
   ]
  },
  {
   "cell_type": "code",
   "execution_count": 22,
   "id": "7288af4f-51a8-476f-9d9a-df7c00af7533",
   "metadata": {
    "tags": []
   },
   "outputs": [
    {
     "name": "stdout",
     "output_type": "stream",
     "text": [
      "<class 'pandas.core.frame.DataFrame'>\n",
      "RangeIndex: 68092 entries, 0 to 68091\n",
      "Data columns (total 5 columns):\n",
      " #   Column   Non-Null Count  Dtype   \n",
      "---  ------   --------------  -----   \n",
      " 0   user_id  68092 non-null  int64   \n",
      " 1   city     68092 non-null  object  \n",
      " 2   state    68092 non-null  object  \n",
      " 3   country  68092 non-null  object  \n",
      " 4   age_bin  68092 non-null  category\n",
      "dtypes: category(1), int64(1), object(3)\n",
      "memory usage: 2.1+ MB\n"
     ]
    }
   ],
   "source": [
    "users.info()"
   ]
  },
  {
   "cell_type": "code",
   "execution_count": 23,
   "id": "c3641c1a-66b1-4ddd-b32f-3543a31b064d",
   "metadata": {
    "tags": []
   },
   "outputs": [
    {
     "name": "stdout",
     "output_type": "stream",
     "text": [
      "<class 'pandas.core.frame.DataFrame'>\n",
      "RangeIndex: 149570 entries, 0 to 149569\n",
      "Data columns (total 7 columns):\n",
      " #   Column               Non-Null Count   Dtype   \n",
      "---  ------               --------------   -----   \n",
      " 0   isbn                 149570 non-null  object  \n",
      " 1   book_author          149570 non-null  object  \n",
      " 2   year_of_publication  149570 non-null  category\n",
      " 3   publisher            149570 non-null  object  \n",
      " 4   summary              149570 non-null  int64   \n",
      " 5   major_cat            149570 non-null  object  \n",
      " 6   isbn_area            149570 non-null  object  \n",
      "dtypes: category(1), int64(1), object(5)\n",
      "memory usage: 7.0+ MB\n"
     ]
    }
   ],
   "source": [
    "books.info()"
   ]
  },
  {
   "cell_type": "code",
   "execution_count": 71,
   "id": "72b7c99f-aa55-44fd-8fde-dee5b6a5a879",
   "metadata": {
    "tags": []
   },
   "outputs": [
    {
     "name": "stdout",
     "output_type": "stream",
     "text": [
      "<class 'pandas.core.frame.DataFrame'>\n",
      "RangeIndex: 306795 entries, 0 to 306794\n",
      "Data columns (total 3 columns):\n",
      " #   Column   Non-Null Count   Dtype \n",
      "---  ------   --------------   ----- \n",
      " 0   user_id  306795 non-null  int64 \n",
      " 1   isbn     306795 non-null  object\n",
      " 2   rating   306795 non-null  int64 \n",
      "dtypes: int64(2), object(1)\n",
      "memory usage: 7.0+ MB\n"
     ]
    }
   ],
   "source": [
    "ratings.info()"
   ]
  },
  {
   "cell_type": "code",
   "execution_count": 25,
   "id": "a1cb2176-5157-43c5-abbf-73a5f9a7651e",
   "metadata": {
    "tags": []
   },
   "outputs": [],
   "source": [
    "train_ratings = pd.read_csv('./data/train_ratings.csv')\n",
    "test_ratings = pd.read_csv('./data/test_ratings.csv')\n",
    "train_df = train_ratings.merge(users, on='user_id', how='left').merge(books[['isbn', 'book_author', 'year_of_publication', 'publisher', 'major_cat', 'isbn_area']], on='isbn', how='left')\n",
    "test_df = test_ratings.merge(users, on='user_id', how='left').merge(books[['isbn', 'book_author', 'year_of_publication', 'publisher', 'major_cat', 'isbn_area']], on='isbn', how='left')"
   ]
  },
  {
   "cell_type": "code",
   "execution_count": 26,
   "id": "65eda41d-efb5-4603-8a2b-5bec051ba047",
   "metadata": {
    "tags": []
   },
   "outputs": [
    {
     "data": {
      "text/plain": [
       "stephenking        3759\n",
       "johngrisham        2937\n",
       "noraroberts        2396\n",
       "jamespatterson     1908\n",
       "jkrowling          1416\n",
       "                   ... \n",
       "hisakomatsubara       1\n",
       "andygoldsworthy       1\n",
       "mauricekrafft         1\n",
       "alanrayburn           1\n",
       "mapsco                1\n",
       "Name: book_author, Length: 52185, dtype: int64"
      ]
     },
     "execution_count": 26,
     "metadata": {},
     "output_type": "execute_result"
    }
   ],
   "source": [
    "train_df.book_author.value_counts(dropna=False)"
   ]
  },
  {
   "cell_type": "code",
   "execution_count": 27,
   "id": "aa51d007-a651-43ca-a68d-34003748954b",
   "metadata": {
    "tags": []
   },
   "outputs": [],
   "source": [
    "train_df['age_bin'] = train_df['age_bin'].astype('str')\n",
    "train_df['year_of_publication'] = train_df['year_of_publication'].astype('str')\n",
    "\n",
    "test_df['age_bin'] = test_df['age_bin'].astype('str')\n",
    "test_df['year_of_publication'] = test_df['year_of_publication'].astype('str')\n",
    "\n",
    "train_df['book_author'] = train_df['book_author'].fillna('stephenking')\n",
    "test_df['book_author'] = test_df['book_author'].fillna('stephenking')\n",
    "\n",
    "# # lanugage 전처리\n",
    "# train_df['language'] = train_df['language'].fillna('en')\n",
    "# test_df['language'] = test_df['language'].fillna('en')"
   ]
  },
  {
   "cell_type": "code",
   "execution_count": 32,
   "id": "b9e13c5d-e023-4a45-bef4-cc6fae745b8d",
   "metadata": {
    "tags": []
   },
   "outputs": [],
   "source": [
    "from sklearn.model_selection import train_test_split\n",
    "from catboost import CatBoostRegressor\n",
    "\n",
    "X_train, X_val, y_train, y_val = train_test_split(train_df.drop(['user_id', 'isbn', 'rating'], axis=1), train_df['rating'], test_size = 0.2, random_state = 42)\n",
    "# cbr = CatBoostRegressor(cat_features = list(X_train.drop(['age', 'year_of_publication'], axis=1).columns) )"
   ]
  },
  {
   "cell_type": "code",
   "execution_count": 33,
   "id": "b7b2be4b-bd69-4d9e-aad7-637bcd5984e0",
   "metadata": {
    "tags": []
   },
   "outputs": [],
   "source": [
    "cbr = CatBoostRegressor(cat_features = list(X_train.columns) )"
   ]
  },
  {
   "cell_type": "code",
   "execution_count": 34,
   "id": "cf456def-f351-4611-98a6-5e90c7609f73",
   "metadata": {
    "tags": []
   },
   "outputs": [
    {
     "name": "stderr",
     "output_type": "stream",
     "text": [
      "/Users/darrenkwon/miniconda3/envs/camp/lib/python3.10/site-packages/catboost/core.py:1411: FutureWarning: iteritems is deprecated and will be removed in a future version. Use .items instead.\n",
      "  self._init_pool(data, label, cat_features, text_features, embedding_features, embedding_features_data, pairs, weight,\n"
     ]
    },
    {
     "data": {
      "text/plain": [
       "<catboost.core.CatBoostRegressor at 0x28fc36800>"
      ]
     },
     "execution_count": 34,
     "metadata": {},
     "output_type": "execute_result"
    }
   ],
   "source": [
    "cbr.fit(X_train, y_train, verbose=False)"
   ]
  },
  {
   "cell_type": "code",
   "execution_count": 35,
   "id": "9127f58b-056c-4454-a091-2109ca549ca7",
   "metadata": {
    "tags": []
   },
   "outputs": [
    {
     "data": {
      "text/plain": [
       "2.193428330532013"
      ]
     },
     "execution_count": 35,
     "metadata": {},
     "output_type": "execute_result"
    }
   ],
   "source": [
    "from sklearn.metrics import mean_squared_error\n",
    "\n",
    "y_pred = cbr.predict(X_val)\n",
    "mean_squared_error(y_pred, y_val, squared=False)"
   ]
  },
  {
   "cell_type": "code",
   "execution_count": 37,
   "id": "ca37475a-cf27-4b08-ad94-877b388e906d",
   "metadata": {
    "tags": []
   },
   "outputs": [],
   "source": [
    "import optuna\n",
    "from optuna import Trial\n",
    "from optuna.samplers import TPESampler"
   ]
  },
  {
   "cell_type": "code",
   "execution_count": 38,
   "id": "2f030f98-e999-4e68-9882-04561c8cd954",
   "metadata": {
    "tags": []
   },
   "outputs": [
    {
     "name": "stderr",
     "output_type": "stream",
     "text": [
      "\u001b[32m[I 2023-04-19 17:56:37,858]\u001b[0m A new study created in memory with name: no-name-825cd3fe-5cd0-474f-82d4-702789b0a421\u001b[0m\n",
      "/Users/darrenkwon/miniconda3/envs/camp/lib/python3.10/site-packages/catboost/core.py:1411: FutureWarning: iteritems is deprecated and will be removed in a future version. Use .items instead.\n",
      "  self._init_pool(data, label, cat_features, text_features, embedding_features, embedding_features_data, pairs, weight,\n",
      "\u001b[32m[I 2023-04-19 17:57:00,394]\u001b[0m Trial 0 finished with value: 2.211641301604309 and parameters: {'iterations': 1100, 'od_wait': 48, 'learning_rate': 0.36733700119664553, 'reg_lambda': 6.026718993550663, 'subsample': 0.15601864044243652, 'random_strength': 16.239780813448107, 'depth': 2, 'min_data_in_leaf': 5, 'leaf_estimation_iterations': 10}. Best is trial 0 with value: 2.211641301604309.\u001b[0m\n",
      "/Users/darrenkwon/miniconda3/envs/camp/lib/python3.10/site-packages/catboost/core.py:1411: FutureWarning: iteritems is deprecated and will be removed in a future version. Use .items instead.\n",
      "  self._init_pool(data, label, cat_features, text_features, embedding_features, embedding_features_data, pairs, weight,\n",
      "\u001b[32m[I 2023-04-19 17:57:24,802]\u001b[0m Trial 1 finished with value: 2.20210330875792 and parameters: {'iterations': 1367, 'od_wait': 10, 'learning_rate': 0.4851053768201872, 'reg_lambda': 8.341182143924176, 'subsample': 0.21233911067827616, 'random_strength': 17.272998688284027, 'depth': 3, 'min_data_in_leaf': 2, 'leaf_estimation_iterations': 8}. Best is trial 1 with value: 2.20210330875792.\u001b[0m\n",
      "/Users/darrenkwon/miniconda3/envs/camp/lib/python3.10/site-packages/catboost/core.py:1411: FutureWarning: iteritems is deprecated and will be removed in a future version. Use .items instead.\n",
      "  self._init_pool(data, label, cat_features, text_features, embedding_features, embedding_features_data, pairs, weight,\n",
      "\u001b[32m[I 2023-04-19 17:57:53,092]\u001b[0m Trial 2 finished with value: 2.19780694857072 and parameters: {'iterations': 1145, 'od_wait': 21, 'learning_rate': 0.30786718288757786, 'reg_lambda': 1.4809892204552142, 'subsample': 0.29214464853521815, 'random_strength': 24.654473731747668, 'depth': 6, 'min_data_in_leaf': 4, 'leaf_estimation_iterations': 3}. Best is trial 2 with value: 2.19780694857072.\u001b[0m\n",
      "/Users/darrenkwon/miniconda3/envs/camp/lib/python3.10/site-packages/catboost/core.py:1411: FutureWarning: iteritems is deprecated and will be removed in a future version. Use .items instead.\n",
      "  self._init_pool(data, label, cat_features, text_features, embedding_features, embedding_features_data, pairs, weight,\n",
      "\u001b[32m[I 2023-04-19 18:00:48,521]\u001b[0m Trial 3 finished with value: 2.19488092443011 and parameters: {'iterations': 1211, 'od_wait': 34, 'learning_rate': 0.027992954296398875, 'reg_lambda': 6.11469403382424, 'subsample': 0.17052412368729153, 'random_strength': 12.60206371941118, 'depth': 10, 'min_data_in_leaf': 5, 'leaf_estimation_iterations': 13}. Best is trial 3 with value: 2.19488092443011.\u001b[0m\n",
      "/Users/darrenkwon/miniconda3/envs/camp/lib/python3.10/site-packages/catboost/core.py:1411: FutureWarning: iteritems is deprecated and will be removed in a future version. Use .items instead.\n",
      "  self._init_pool(data, label, cat_features, text_features, embedding_features, embedding_features_data, pairs, weight,\n",
      "\u001b[32m[I 2023-04-19 18:00:57,150]\u001b[0m Trial 4 finished with value: 2.213136200733212 and parameters: {'iterations': 1043, 'od_wait': 14, 'learning_rate': 0.34369534812351765, 'reg_lambda': 4.4575096880220535, 'subsample': 0.12203823484477883, 'random_strength': 29.807076404450807, 'depth': 2, 'min_data_in_leaf': 5, 'leaf_estimation_iterations': 4}. Best is trial 3 with value: 2.19488092443011.\u001b[0m\n",
      "/Users/darrenkwon/miniconda3/envs/camp/lib/python3.10/site-packages/catboost/core.py:1411: FutureWarning: iteritems is deprecated and will be removed in a future version. Use .items instead.\n",
      "  self._init_pool(data, label, cat_features, text_features, embedding_features, embedding_features_data, pairs, weight,\n",
      "\u001b[32m[I 2023-04-19 18:01:15,120]\u001b[0m Trial 5 finished with value: 2.204935604232842 and parameters: {'iterations': 1330, 'od_wait': 22, 'learning_rate': 0.26243367048301636, 'reg_lambda': 5.5124317654984685, 'subsample': 0.18485445552552704, 'random_strength': 48.783385110582344, 'depth': 8, 'min_data_in_leaf': 5, 'leaf_estimation_iterations': 14}. Best is trial 3 with value: 2.19488092443011.\u001b[0m\n",
      "/Users/darrenkwon/miniconda3/envs/camp/lib/python3.10/site-packages/catboost/core.py:1411: FutureWarning: iteritems is deprecated and will be removed in a future version. Use .items instead.\n",
      "  self._init_pool(data, label, cat_features, text_features, embedding_features, embedding_features_data, pairs, weight,\n",
      "\u001b[32m[I 2023-04-19 18:02:46,491]\u001b[0m Trial 6 finished with value: 2.206248291602098 and parameters: {'iterations': 1278, 'od_wait': 47, 'learning_rate': 0.04880378851570015, 'reg_lambda': 2.0402303379495375, 'subsample': 0.045227288910538066, 'random_strength': 23.013213230530575, 'depth': 5, 'min_data_in_leaf': 2, 'leaf_estimation_iterations': 13}. Best is trial 3 with value: 2.19488092443011.\u001b[0m\n",
      "/Users/darrenkwon/miniconda3/envs/camp/lib/python3.10/site-packages/catboost/core.py:1411: FutureWarning: iteritems is deprecated and will be removed in a future version. Use .items instead.\n",
      "  self._init_pool(data, label, cat_features, text_features, embedding_features, embedding_features_data, pairs, weight,\n",
      "\u001b[32m[I 2023-04-19 18:03:08,368]\u001b[0m Trial 7 finished with value: 2.2036924119919745 and parameters: {'iterations': 1085, 'od_wait': 21, 'learning_rate': 0.273634561163333, 'reg_lambda': 1.4951498272501502, 'subsample': 0.8021969807540397, 'random_strength': 12.982025747190832, 'depth': 10, 'min_data_in_leaf': 4, 'leaf_estimation_iterations': 3}. Best is trial 3 with value: 2.19488092443011.\u001b[0m\n",
      "/Users/darrenkwon/miniconda3/envs/camp/lib/python3.10/site-packages/catboost/core.py:1411: FutureWarning: iteritems is deprecated and will be removed in a future version. Use .items instead.\n",
      "  self._init_pool(data, label, cat_features, text_features, embedding_features, embedding_features_data, pairs, weight,\n",
      "\u001b[32m[I 2023-04-19 18:03:37,726]\u001b[0m Trial 8 finished with value: 2.1968333968920946 and parameters: {'iterations': 804, 'od_wait': 43, 'learning_rate': 0.35489438520457045, 'reg_lambda': 7.317170963605775, 'subsample': 0.7712703466859457, 'random_strength': 12.961786069363615, 'depth': 5, 'min_data_in_leaf': 1, 'leaf_estimation_iterations': 13}. Best is trial 3 with value: 2.19488092443011.\u001b[0m\n",
      "/Users/darrenkwon/miniconda3/envs/camp/lib/python3.10/site-packages/catboost/core.py:1411: FutureWarning: iteritems is deprecated and will be removed in a future version. Use .items instead.\n",
      "  self._init_pool(data, label, cat_features, text_features, embedding_features, embedding_features_data, pairs, weight,\n",
      "\u001b[32m[I 2023-04-19 18:05:49,306]\u001b[0m Trial 9 finished with value: 2.1948410865588626 and parameters: {'iterations': 1299, 'od_wait': 23, 'learning_rate': 0.0364613833915817, 'reg_lambda': 3.178724984985056, 'subsample': 0.32518332202674705, 'random_strength': 39.18424713352256, 'depth': 7, 'min_data_in_leaf': 5, 'leaf_estimation_iterations': 8}. Best is trial 9 with value: 2.1948410865588626.\u001b[0m\n",
      "/Users/darrenkwon/miniconda3/envs/camp/lib/python3.10/site-packages/catboost/core.py:1411: FutureWarning: iteritems is deprecated and will be removed in a future version. Use .items instead.\n",
      "  self._init_pool(data, label, cat_features, text_features, embedding_features, embedding_features_data, pairs, weight,\n",
      "\u001b[32m[I 2023-04-19 18:06:32,836]\u001b[0m Trial 10 finished with value: 2.193823638699577 and parameters: {'iterations': 1566, 'od_wait': 32, 'learning_rate': 0.13049820417610852, 'reg_lambda': 3.5338238249255562, 'subsample': 0.47952230952598074, 'random_strength': 41.18967854608426, 'depth': 8, 'min_data_in_leaf': 3, 'leaf_estimation_iterations': 7}. Best is trial 10 with value: 2.193823638699577.\u001b[0m\n",
      "/Users/darrenkwon/miniconda3/envs/camp/lib/python3.10/site-packages/catboost/core.py:1411: FutureWarning: iteritems is deprecated and will be removed in a future version. Use .items instead.\n",
      "  self._init_pool(data, label, cat_features, text_features, embedding_features, embedding_features_data, pairs, weight,\n",
      "\u001b[32m[I 2023-04-19 18:07:19,813]\u001b[0m Trial 11 finished with value: 2.1954495489403754 and parameters: {'iterations': 1598, 'od_wait': 33, 'learning_rate': 0.12729525516737572, 'reg_lambda': 3.415700490315538, 'subsample': 0.4813718905367476, 'random_strength': 40.479125898496726, 'depth': 8, 'min_data_in_leaf': 3, 'leaf_estimation_iterations': 7}. Best is trial 10 with value: 2.193823638699577.\u001b[0m\n",
      "/Users/darrenkwon/miniconda3/envs/camp/lib/python3.10/site-packages/catboost/core.py:1411: FutureWarning: iteritems is deprecated and will be removed in a future version. Use .items instead.\n",
      "  self._init_pool(data, label, cat_features, text_features, embedding_features, embedding_features_data, pairs, weight,\n",
      "\u001b[32m[I 2023-04-19 18:08:04,577]\u001b[0m Trial 12 finished with value: 2.195676082323869 and parameters: {'iterations': 1562, 'od_wait': 27, 'learning_rate': 0.14641729993567018, 'reg_lambda': 3.318911085930469, 'subsample': 0.43277075981408214, 'random_strength': 38.40052404336416, 'depth': 8, 'min_data_in_leaf': 3, 'leaf_estimation_iterations': 6}. Best is trial 10 with value: 2.193823638699577.\u001b[0m\n",
      "/Users/darrenkwon/miniconda3/envs/camp/lib/python3.10/site-packages/catboost/core.py:1411: FutureWarning: iteritems is deprecated and will be removed in a future version. Use .items instead.\n",
      "  self._init_pool(data, label, cat_features, text_features, embedding_features, embedding_features_data, pairs, weight,\n",
      "\u001b[32m[I 2023-04-19 18:08:51,176]\u001b[0m Trial 13 finished with value: 2.1951208286921875 and parameters: {'iterations': 1488, 'od_wait': 39, 'learning_rate': 0.14187102064788923, 'reg_lambda': 0.18341780545560793, 'subsample': 0.6183042362479547, 'random_strength': 38.459444794411134, 'depth': 7, 'min_data_in_leaf': 4, 'leaf_estimation_iterations': 10}. Best is trial 10 with value: 2.193823638699577.\u001b[0m\n",
      "/Users/darrenkwon/miniconda3/envs/camp/lib/python3.10/site-packages/catboost/core.py:1411: FutureWarning: iteritems is deprecated and will be removed in a future version. Use .items instead.\n",
      "  self._init_pool(data, label, cat_features, text_features, embedding_features, embedding_features_data, pairs, weight,\n",
      "\u001b[32m[I 2023-04-19 18:10:11,375]\u001b[0m Trial 14 finished with value: 2.194910170448822 and parameters: {'iterations': 1431, 'od_wait': 27, 'learning_rate': 0.0737123545885309, 'reg_lambda': 9.960568194676016, 'subsample': 0.3642824130270252, 'random_strength': 44.50816462006489, 'depth': 9, 'min_data_in_leaf': 2, 'leaf_estimation_iterations': 10}. Best is trial 10 with value: 2.193823638699577.\u001b[0m\n",
      "/Users/darrenkwon/miniconda3/envs/camp/lib/python3.10/site-packages/catboost/core.py:1411: FutureWarning: iteritems is deprecated and will be removed in a future version. Use .items instead.\n",
      "  self._init_pool(data, label, cat_features, text_features, embedding_features, embedding_features_data, pairs, weight,\n",
      "\u001b[32m[I 2023-04-19 18:11:19,412]\u001b[0m Trial 15 finished with value: 2.248082302397428 and parameters: {'iterations': 894, 'od_wait': 37, 'learning_rate': 0.006057689129612381, 'reg_lambda': 4.094611114721169, 'subsample': 0.6048429142044295, 'random_strength': 33.97071242438889, 'depth': 6, 'min_data_in_leaf': 3, 'leaf_estimation_iterations': 5}. Best is trial 10 with value: 2.193823638699577.\u001b[0m\n",
      "/Users/darrenkwon/miniconda3/envs/camp/lib/python3.10/site-packages/catboost/core.py:1411: FutureWarning: iteritems is deprecated and will be removed in a future version. Use .items instead.\n",
      "  self._init_pool(data, label, cat_features, text_features, embedding_features, embedding_features_data, pairs, weight,\n",
      "\u001b[32m[I 2023-04-19 18:12:07,547]\u001b[0m Trial 16 finished with value: 2.1951647674420833 and parameters: {'iterations': 1470, 'od_wait': 28, 'learning_rate': 0.1757203892075624, 'reg_lambda': 3.2118045804084736, 'subsample': 0.3279853214684625, 'random_strength': 48.12320532833496, 'depth': 7, 'min_data_in_leaf': 4, 'leaf_estimation_iterations': 1}. Best is trial 10 with value: 2.193823638699577.\u001b[0m\n",
      "/Users/darrenkwon/miniconda3/envs/camp/lib/python3.10/site-packages/catboost/core.py:1411: FutureWarning: iteritems is deprecated and will be removed in a future version. Use .items instead.\n",
      "  self._init_pool(data, label, cat_features, text_features, embedding_features, embedding_features_data, pairs, weight,\n",
      "\u001b[32m[I 2023-04-19 18:13:06,861]\u001b[0m Trial 17 finished with value: 2.1975692412853753 and parameters: {'iterations': 970, 'od_wait': 18, 'learning_rate': 0.07453122592796849, 'reg_lambda': 4.814626867836858, 'subsample': 0.5392727789146319, 'random_strength': 43.36962478347162, 'depth': 4, 'min_data_in_leaf': 1, 'leaf_estimation_iterations': 9}. Best is trial 10 with value: 2.193823638699577.\u001b[0m\n",
      "/Users/darrenkwon/miniconda3/envs/camp/lib/python3.10/site-packages/catboost/core.py:1411: FutureWarning: iteritems is deprecated and will be removed in a future version. Use .items instead.\n",
      "  self._init_pool(data, label, cat_features, text_features, embedding_features, embedding_features_data, pairs, weight,\n",
      "\u001b[32m[I 2023-04-19 18:13:35,267]\u001b[0m Trial 18 finished with value: 2.198897360246458 and parameters: {'iterations': 1256, 'od_wait': 30, 'learning_rate': 0.2001618641665206, 'reg_lambda': 2.57158906867425, 'subsample': 0.36855050951581836, 'random_strength': 33.66070683982904, 'depth': 9, 'min_data_in_leaf': 2, 'leaf_estimation_iterations': 7}. Best is trial 10 with value: 2.193823638699577.\u001b[0m\n",
      "/Users/darrenkwon/miniconda3/envs/camp/lib/python3.10/site-packages/catboost/core.py:1411: FutureWarning: iteritems is deprecated and will be removed in a future version. Use .items instead.\n",
      "  self._init_pool(data, label, cat_features, text_features, embedding_features, embedding_features_data, pairs, weight,\n",
      "\u001b[32m[I 2023-04-19 18:14:52,807]\u001b[0m Trial 19 finished with value: 2.1941104392559376 and parameters: {'iterations': 1377, 'od_wait': 41, 'learning_rate': 0.09383154068959185, 'reg_lambda': 4.090795155000278, 'subsample': 0.8865075555273069, 'random_strength': 49.83040862748855, 'depth': 7, 'min_data_in_leaf': 4, 'leaf_estimation_iterations': 11}. Best is trial 10 with value: 2.193823638699577.\u001b[0m\n",
      "/Users/darrenkwon/miniconda3/envs/camp/lib/python3.10/site-packages/catboost/core.py:1411: FutureWarning: iteritems is deprecated and will be removed in a future version. Use .items instead.\n",
      "  self._init_pool(data, label, cat_features, text_features, embedding_features, embedding_features_data, pairs, weight,\n",
      "\u001b[32m[I 2023-04-19 18:16:26,019]\u001b[0m Trial 20 finished with value: 2.1927628010916553 and parameters: {'iterations': 1399, 'od_wait': 40, 'learning_rate': 0.10742767425265251, 'reg_lambda': 4.310299990559942, 'subsample': 0.9981357733997248, 'random_strength': 49.00686482321352, 'depth': 6, 'min_data_in_leaf': 4, 'leaf_estimation_iterations': 11}. Best is trial 20 with value: 2.1927628010916553.\u001b[0m\n",
      "/Users/darrenkwon/miniconda3/envs/camp/lib/python3.10/site-packages/catboost/core.py:1411: FutureWarning: iteritems is deprecated and will be removed in a future version. Use .items instead.\n",
      "  self._init_pool(data, label, cat_features, text_features, embedding_features, embedding_features_data, pairs, weight,\n",
      "\u001b[32m[I 2023-04-19 18:17:40,531]\u001b[0m Trial 21 finished with value: 2.193850871349706 and parameters: {'iterations': 1409, 'od_wait': 40, 'learning_rate': 0.09806587929709656, 'reg_lambda': 4.324976522881628, 'subsample': 0.9861781029605085, 'random_strength': 49.66569056804153, 'depth': 6, 'min_data_in_leaf': 4, 'leaf_estimation_iterations': 11}. Best is trial 20 with value: 2.1927628010916553.\u001b[0m\n",
      "/Users/darrenkwon/miniconda3/envs/camp/lib/python3.10/site-packages/catboost/core.py:1411: FutureWarning: iteritems is deprecated and will be removed in a future version. Use .items instead.\n",
      "  self._init_pool(data, label, cat_features, text_features, embedding_features, embedding_features_data, pairs, weight,\n",
      "\u001b[32m[I 2023-04-19 18:19:10,860]\u001b[0m Trial 22 finished with value: 2.1937659581669275 and parameters: {'iterations': 1534, 'od_wait': 44, 'learning_rate': 0.1060528120496255, 'reg_lambda': 5.034159562375457, 'subsample': 0.9936622544149052, 'random_strength': 45.90224659357574, 'depth': 5, 'min_data_in_leaf': 3, 'leaf_estimation_iterations': 12}. Best is trial 20 with value: 2.1927628010916553.\u001b[0m\n",
      "/Users/darrenkwon/miniconda3/envs/camp/lib/python3.10/site-packages/catboost/core.py:1411: FutureWarning: iteritems is deprecated and will be removed in a future version. Use .items instead.\n",
      "  self._init_pool(data, label, cat_features, text_features, embedding_features, embedding_features_data, pairs, weight,\n",
      "\u001b[32m[I 2023-04-19 18:20:22,473]\u001b[0m Trial 23 finished with value: 2.1943877728757566 and parameters: {'iterations': 1524, 'od_wait': 46, 'learning_rate': 0.17054488096557668, 'reg_lambda': 5.370045018485891, 'subsample': 0.962329932093395, 'random_strength': 44.64647609966096, 'depth': 4, 'min_data_in_leaf': 3, 'leaf_estimation_iterations': 12}. Best is trial 20 with value: 2.1927628010916553.\u001b[0m\n",
      "/Users/darrenkwon/miniconda3/envs/camp/lib/python3.10/site-packages/catboost/core.py:1411: FutureWarning: iteritems is deprecated and will be removed in a future version. Use .items instead.\n",
      "  self._init_pool(data, label, cat_features, text_features, embedding_features, embedding_features_data, pairs, weight,\n",
      "\u001b[32m[I 2023-04-19 18:21:09,806]\u001b[0m Trial 24 finished with value: 2.1951796475835197 and parameters: {'iterations': 1532, 'od_wait': 50, 'learning_rate': 0.20281223145750046, 'reg_lambda': 5.067142313622002, 'subsample': 0.7260263747615237, 'random_strength': 45.698098361003794, 'depth': 5, 'min_data_in_leaf': 3, 'leaf_estimation_iterations': 15}. Best is trial 20 with value: 2.1927628010916553.\u001b[0m\n",
      "/Users/darrenkwon/miniconda3/envs/camp/lib/python3.10/site-packages/catboost/core.py:1411: FutureWarning: iteritems is deprecated and will be removed in a future version. Use .items instead.\n",
      "  self._init_pool(data, label, cat_features, text_features, embedding_features, embedding_features_data, pairs, weight,\n",
      "\u001b[32m[I 2023-04-19 18:22:45,308]\u001b[0m Trial 25 finished with value: 2.1951692512251633 and parameters: {'iterations': 1600, 'od_wait': 43, 'learning_rate': 0.10634752114337499, 'reg_lambda': 6.824190438733307, 'subsample': 0.8783251654835644, 'random_strength': 43.167540761546036, 'depth': 4, 'min_data_in_leaf': 3, 'leaf_estimation_iterations': 15}. Best is trial 20 with value: 2.1927628010916553.\u001b[0m\n",
      "/Users/darrenkwon/miniconda3/envs/camp/lib/python3.10/site-packages/catboost/core.py:1411: FutureWarning: iteritems is deprecated and will be removed in a future version. Use .items instead.\n",
      "  self._init_pool(data, label, cat_features, text_features, embedding_features, embedding_features_data, pairs, weight,\n",
      "\u001b[32m[I 2023-04-19 18:25:01,386]\u001b[0m Trial 26 finished with value: 2.193741275616116 and parameters: {'iterations': 1456, 'od_wait': 35, 'learning_rate': 0.06177162563331295, 'reg_lambda': 4.802197216969068, 'subsample': 0.6736701105886815, 'random_strength': 46.63684548811101, 'depth': 6, 'min_data_in_leaf': 3, 'leaf_estimation_iterations': 12}. Best is trial 20 with value: 2.1927628010916553.\u001b[0m\n",
      "/Users/darrenkwon/miniconda3/envs/camp/lib/python3.10/site-packages/catboost/core.py:1411: FutureWarning: iteritems is deprecated and will be removed in a future version. Use .items instead.\n",
      "  self._init_pool(data, label, cat_features, text_features, embedding_features, embedding_features_data, pairs, weight,\n",
      "\u001b[32m[I 2023-04-19 18:27:22,117]\u001b[0m Trial 27 finished with value: 2.2323987295324965 and parameters: {'iterations': 1472, 'od_wait': 36, 'learning_rate': 0.007656370464412539, 'reg_lambda': 4.887992121002705, 'subsample': 0.9204486449965542, 'random_strength': 46.58911976950711, 'depth': 6, 'min_data_in_leaf': 2, 'leaf_estimation_iterations': 12}. Best is trial 20 with value: 2.1927628010916553.\u001b[0m\n",
      "/Users/darrenkwon/miniconda3/envs/camp/lib/python3.10/site-packages/catboost/core.py:1411: FutureWarning: iteritems is deprecated and will be removed in a future version. Use .items instead.\n",
      "  self._init_pool(data, label, cat_features, text_features, embedding_features, embedding_features_data, pairs, weight,\n",
      "\u001b[32m[I 2023-04-19 18:29:11,579]\u001b[0m Trial 28 finished with value: 2.194193697659355 and parameters: {'iterations': 1352, 'od_wait': 44, 'learning_rate': 0.05583257869569697, 'reg_lambda': 5.669685093647131, 'subsample': 0.8317680559927537, 'random_strength': 45.2860395798041, 'depth': 5, 'min_data_in_leaf': 4, 'leaf_estimation_iterations': 12}. Best is trial 20 with value: 2.1927628010916553.\u001b[0m\n",
      "/Users/darrenkwon/miniconda3/envs/camp/lib/python3.10/site-packages/catboost/core.py:1411: FutureWarning: iteritems is deprecated and will be removed in a future version. Use .items instead.\n",
      "  self._init_pool(data, label, cat_features, text_features, embedding_features, embedding_features_data, pairs, weight,\n",
      "\u001b[32m[I 2023-04-19 18:30:25,780]\u001b[0m Trial 29 finished with value: 2.1963012054139743 and parameters: {'iterations': 1432, 'od_wait': 37, 'learning_rate': 0.08498637707191112, 'reg_lambda': 6.082218465403166, 'subsample': 0.9845730381532298, 'random_strength': 46.915575734648144, 'depth': 4, 'min_data_in_leaf': 4, 'leaf_estimation_iterations': 10}. Best is trial 20 with value: 2.1927628010916553.\u001b[0m\n",
      "/Users/darrenkwon/miniconda3/envs/camp/lib/python3.10/site-packages/catboost/core.py:1411: FutureWarning: iteritems is deprecated and will be removed in a future version. Use .items instead.\n",
      "  self._init_pool(data, label, cat_features, text_features, embedding_features, embedding_features_data, pairs, weight,\n",
      "\u001b[32m[I 2023-04-19 18:31:22,180]\u001b[0m Trial 30 finished with value: 2.1967233686932457 and parameters: {'iterations': 1218, 'od_wait': 50, 'learning_rate': 0.22222842619983796, 'reg_lambda': 4.770612780383657, 'subsample': 0.7131313781275052, 'random_strength': 49.80371056478517, 'depth': 3, 'min_data_in_leaf': 2, 'leaf_estimation_iterations': 14}. Best is trial 20 with value: 2.1927628010916553.\u001b[0m\n",
      "/Users/darrenkwon/miniconda3/envs/camp/lib/python3.10/site-packages/catboost/core.py:1411: FutureWarning: iteritems is deprecated and will be removed in a future version. Use .items instead.\n",
      "  self._init_pool(data, label, cat_features, text_features, embedding_features, embedding_features_data, pairs, weight,\n",
      "\u001b[32m[I 2023-04-19 18:32:15,628]\u001b[0m Trial 31 finished with value: 2.1936756694466393 and parameters: {'iterations': 1519, 'od_wait': 33, 'learning_rate': 0.12107119059756452, 'reg_lambda': 3.962596579018957, 'subsample': 0.9034891818654329, 'random_strength': 41.51981264196858, 'depth': 6, 'min_data_in_leaf': 3, 'leaf_estimation_iterations': 11}. Best is trial 20 with value: 2.1927628010916553.\u001b[0m\n",
      "/Users/darrenkwon/miniconda3/envs/camp/lib/python3.10/site-packages/catboost/core.py:1411: FutureWarning: iteritems is deprecated and will be removed in a future version. Use .items instead.\n",
      "  self._init_pool(data, label, cat_features, text_features, embedding_features, embedding_features_data, pairs, weight,\n",
      "\u001b[32m[I 2023-04-19 18:33:20,170]\u001b[0m Trial 32 finished with value: 2.194224736960995 and parameters: {'iterations': 1511, 'od_wait': 39, 'learning_rate': 0.12126830324695968, 'reg_lambda': 4.076883703150296, 'subsample': 0.9289662998317381, 'random_strength': 42.24401609265002, 'depth': 6, 'min_data_in_leaf': 3, 'leaf_estimation_iterations': 11}. Best is trial 20 with value: 2.1927628010916553.\u001b[0m\n",
      "/Users/darrenkwon/miniconda3/envs/camp/lib/python3.10/site-packages/catboost/core.py:1411: FutureWarning: iteritems is deprecated and will be removed in a future version. Use .items instead.\n",
      "  self._init_pool(data, label, cat_features, text_features, embedding_features, embedding_features_data, pairs, weight,\n",
      "\u001b[32m[I 2023-04-19 18:35:12,808]\u001b[0m Trial 33 finished with value: 2.194137546307603 and parameters: {'iterations': 1416, 'od_wait': 35, 'learning_rate': 0.06710611132963293, 'reg_lambda': 5.271191179435294, 'subsample': 0.8620464323630792, 'random_strength': 47.12638387560513, 'depth': 5, 'min_data_in_leaf': 3, 'leaf_estimation_iterations': 9}. Best is trial 20 with value: 2.1927628010916553.\u001b[0m\n",
      "/Users/darrenkwon/miniconda3/envs/camp/lib/python3.10/site-packages/catboost/core.py:1411: FutureWarning: iteritems is deprecated and will be removed in a future version. Use .items instead.\n",
      "  self._init_pool(data, label, cat_features, text_features, embedding_features, embedding_features_data, pairs, weight,\n",
      "\u001b[32m[I 2023-04-19 18:35:57,913]\u001b[0m Trial 34 finished with value: 2.194463762807116 and parameters: {'iterations': 1475, 'od_wait': 31, 'learning_rate': 0.1614723945806497, 'reg_lambda': 6.084021732283806, 'subsample': 0.9264714183221967, 'random_strength': 42.44998139458891, 'depth': 7, 'min_data_in_leaf': 3, 'leaf_estimation_iterations': 9}. Best is trial 20 with value: 2.1927628010916553.\u001b[0m\n",
      "/Users/darrenkwon/miniconda3/envs/camp/lib/python3.10/site-packages/catboost/core.py:1411: FutureWarning: iteritems is deprecated and will be removed in a future version. Use .items instead.\n",
      "  self._init_pool(data, label, cat_features, text_features, embedding_features, embedding_features_data, pairs, weight,\n",
      "\u001b[32m[I 2023-04-19 18:37:25,786]\u001b[0m Trial 35 finished with value: 2.1929391250120975 and parameters: {'iterations': 1392, 'od_wait': 45, 'learning_rate': 0.10699282833534979, 'reg_lambda': 3.866056056398857, 'subsample': 0.9898862016832379, 'random_strength': 47.56519914108718, 'depth': 6, 'min_data_in_leaf': 3, 'leaf_estimation_iterations': 12}. Best is trial 20 with value: 2.1927628010916553.\u001b[0m\n",
      "/Users/darrenkwon/miniconda3/envs/camp/lib/python3.10/site-packages/catboost/core.py:1411: FutureWarning: iteritems is deprecated and will be removed in a future version. Use .items instead.\n",
      "  self._init_pool(data, label, cat_features, text_features, embedding_features, embedding_features_data, pairs, weight,\n",
      "\u001b[32m[I 2023-04-19 18:39:50,845]\u001b[0m Trial 36 finished with value: 2.193077680834078 and parameters: {'iterations': 1380, 'od_wait': 41, 'learning_rate': 0.04546042231442456, 'reg_lambda': 3.7876162290175834, 'subsample': 0.8349743458262012, 'random_strength': 48.02582999933109, 'depth': 6, 'min_data_in_leaf': 4, 'leaf_estimation_iterations': 14}. Best is trial 20 with value: 2.1927628010916553.\u001b[0m\n",
      "/Users/darrenkwon/miniconda3/envs/camp/lib/python3.10/site-packages/catboost/core.py:1411: FutureWarning: iteritems is deprecated and will be removed in a future version. Use .items instead.\n",
      "  self._init_pool(data, label, cat_features, text_features, embedding_features, embedding_features_data, pairs, weight,\n",
      "\u001b[32m[I 2023-04-19 18:41:49,155]\u001b[0m Trial 37 finished with value: 2.194532775760118 and parameters: {'iterations': 1154, 'od_wait': 46, 'learning_rate': 0.04061945290224185, 'reg_lambda': 2.3678119151065236, 'subsample': 0.810822568254569, 'random_strength': 49.9374211980714, 'depth': 6, 'min_data_in_leaf': 5, 'leaf_estimation_iterations': 14}. Best is trial 20 with value: 2.1927628010916553.\u001b[0m\n",
      "/Users/darrenkwon/miniconda3/envs/camp/lib/python3.10/site-packages/catboost/core.py:1411: FutureWarning: iteritems is deprecated and will be removed in a future version. Use .items instead.\n",
      "  self._init_pool(data, label, cat_features, text_features, embedding_features, embedding_features_data, pairs, weight,\n",
      "\u001b[32m[I 2023-04-19 18:46:02,815]\u001b[0m Trial 38 finished with value: 2.1947147666795046 and parameters: {'iterations': 1325, 'od_wait': 42, 'learning_rate': 0.029584227024664775, 'reg_lambda': 3.7831582899055616, 'subsample': 0.8647028179902804, 'random_strength': 47.88688049859027, 'depth': 7, 'min_data_in_leaf': 4, 'leaf_estimation_iterations': 13}. Best is trial 20 with value: 2.1927628010916553.\u001b[0m\n",
      "/Users/darrenkwon/miniconda3/envs/camp/lib/python3.10/site-packages/catboost/core.py:1411: FutureWarning: iteritems is deprecated and will be removed in a future version. Use .items instead.\n",
      "  self._init_pool(data, label, cat_features, text_features, embedding_features, embedding_features_data, pairs, weight,\n",
      "\u001b[32m[I 2023-04-19 18:47:13,195]\u001b[0m Trial 39 finished with value: 2.195478443151801 and parameters: {'iterations': 1374, 'od_wait': 48, 'learning_rate': 0.10819146762403137, 'reg_lambda': 2.767916403944016, 'subsample': 0.9161068985036069, 'random_strength': 44.24543813237192, 'depth': 5, 'min_data_in_leaf': 4, 'leaf_estimation_iterations': 14}. Best is trial 20 with value: 2.1927628010916553.\u001b[0m\n",
      "/Users/darrenkwon/miniconda3/envs/camp/lib/python3.10/site-packages/catboost/core.py:1411: FutureWarning: iteritems is deprecated and will be removed in a future version. Use .items instead.\n",
      "  self._init_pool(data, label, cat_features, text_features, embedding_features, embedding_features_data, pairs, weight,\n",
      "\u001b[32m[I 2023-04-19 18:47:28,102]\u001b[0m Trial 40 finished with value: 2.208075019276355 and parameters: {'iterations': 1239, 'od_wait': 38, 'learning_rate': 0.4833715005241652, 'reg_lambda': 4.348728475170646, 'subsample': 0.7791204161499709, 'random_strength': 48.38292660178532, 'depth': 2, 'min_data_in_leaf': 5, 'leaf_estimation_iterations': 11}. Best is trial 20 with value: 2.1927628010916553.\u001b[0m\n",
      "/Users/darrenkwon/miniconda3/envs/camp/lib/python3.10/site-packages/catboost/core.py:1411: FutureWarning: iteritems is deprecated and will be removed in a future version. Use .items instead.\n",
      "  self._init_pool(data, label, cat_features, text_features, embedding_features, embedding_features_data, pairs, weight,\n",
      "\u001b[32m[I 2023-04-19 18:49:46,970]\u001b[0m Trial 41 finished with value: 2.1922733142156856 and parameters: {'iterations': 1383, 'od_wait': 35, 'learning_rate': 0.05851206483546565, 'reg_lambda': 4.5971896721183, 'subsample': 0.9996930034446878, 'random_strength': 47.11715712992419, 'depth': 6, 'min_data_in_leaf': 2, 'leaf_estimation_iterations': 13}. Best is trial 41 with value: 2.1922733142156856.\u001b[0m\n",
      "/Users/darrenkwon/miniconda3/envs/camp/lib/python3.10/site-packages/catboost/core.py:1411: FutureWarning: iteritems is deprecated and will be removed in a future version. Use .items instead.\n",
      "  self._init_pool(data, label, cat_features, text_features, embedding_features, embedding_features_data, pairs, weight,\n",
      "\u001b[32m[I 2023-04-19 20:44:56,377]\u001b[0m Trial 42 finished with value: 2.1933879039416633 and parameters: {'iterations': 1316, 'od_wait': 41, 'learning_rate': 0.047223670584596894, 'reg_lambda': 3.9220177857657856, 'subsample': 0.9972532065726704, 'random_strength': 47.827918480923834, 'depth': 6, 'min_data_in_leaf': 1, 'leaf_estimation_iterations': 13}. Best is trial 41 with value: 2.1922733142156856.\u001b[0m\n",
      "/Users/darrenkwon/miniconda3/envs/camp/lib/python3.10/site-packages/catboost/core.py:1411: FutureWarning: iteritems is deprecated and will be removed in a future version. Use .items instead.\n",
      "  self._init_pool(data, label, cat_features, text_features, embedding_features, embedding_features_data, pairs, weight,\n",
      "\u001b[32m[I 2023-04-19 20:48:26,932]\u001b[0m Trial 43 finished with value: 2.194044177248846 and parameters: {'iterations': 1305, 'od_wait': 41, 'learning_rate': 0.04571547248600157, 'reg_lambda': 3.6678118590308784, 'subsample': 0.9467844540918001, 'random_strength': 47.95886085595217, 'depth': 6, 'min_data_in_leaf': 1, 'leaf_estimation_iterations': 13}. Best is trial 41 with value: 2.1922733142156856.\u001b[0m\n",
      "/Users/darrenkwon/miniconda3/envs/camp/lib/python3.10/site-packages/catboost/core.py:1411: FutureWarning: iteritems is deprecated and will be removed in a future version. Use .items instead.\n",
      "  self._init_pool(data, label, cat_features, text_features, embedding_features, embedding_features_data, pairs, weight,\n",
      "\u001b[32m[I 2023-04-19 20:51:16,640]\u001b[0m Trial 44 finished with value: 2.1964509353059007 and parameters: {'iterations': 1158, 'od_wait': 10, 'learning_rate': 0.023903542259526882, 'reg_lambda': 2.995960600125882, 'subsample': 0.9883779733485487, 'random_strength': 44.860499520861616, 'depth': 7, 'min_data_in_leaf': 1, 'leaf_estimation_iterations': 15}. Best is trial 41 with value: 2.1922733142156856.\u001b[0m\n",
      "/Users/darrenkwon/miniconda3/envs/camp/lib/python3.10/site-packages/catboost/core.py:1411: FutureWarning: iteritems is deprecated and will be removed in a future version. Use .items instead.\n",
      "  self._init_pool(data, label, cat_features, text_features, embedding_features, embedding_features_data, pairs, weight,\n",
      "\u001b[32m[I 2023-04-19 20:53:18,541]\u001b[0m Trial 45 finished with value: 2.193903883108174 and parameters: {'iterations': 1280, 'od_wait': 45, 'learning_rate': 0.08146720510794488, 'reg_lambda': 4.5233647356535815, 'subsample': 0.9488320256924667, 'random_strength': 47.81763609667781, 'depth': 5, 'min_data_in_leaf': 2, 'leaf_estimation_iterations': 13}. Best is trial 41 with value: 2.1922733142156856.\u001b[0m\n",
      "/Users/darrenkwon/miniconda3/envs/camp/lib/python3.10/site-packages/catboost/core.py:1411: FutureWarning: iteritems is deprecated and will be removed in a future version. Use .items instead.\n",
      "  self._init_pool(data, label, cat_features, text_features, embedding_features, embedding_features_data, pairs, weight,\n",
      "\u001b[32m[I 2023-04-19 20:55:47,506]\u001b[0m Trial 46 finished with value: 2.1914280120892213 and parameters: {'iterations': 1383, 'od_wait': 40, 'learning_rate': 0.048874458688324886, 'reg_lambda': 3.491598561612883, 'subsample': 0.8356954568350058, 'random_strength': 39.72019974335227, 'depth': 8, 'min_data_in_leaf': 1, 'leaf_estimation_iterations': 14}. Best is trial 46 with value: 2.1914280120892213.\u001b[0m\n",
      "/Users/darrenkwon/miniconda3/envs/camp/lib/python3.10/site-packages/catboost/core.py:1411: FutureWarning: iteritems is deprecated and will be removed in a future version. Use .items instead.\n",
      "  self._init_pool(data, label, cat_features, text_features, embedding_features, embedding_features_data, pairs, weight,\n",
      "\u001b[32m[I 2023-04-19 20:58:02,423]\u001b[0m Trial 47 finished with value: 2.1915827271297235 and parameters: {'iterations': 1385, 'od_wait': 39, 'learning_rate': 0.06440031443917053, 'reg_lambda': 3.5160602613966816, 'subsample': 0.8315867626974374, 'random_strength': 40.031481809578175, 'depth': 8, 'min_data_in_leaf': 2, 'leaf_estimation_iterations': 14}. Best is trial 46 with value: 2.1914280120892213.\u001b[0m\n",
      "/Users/darrenkwon/miniconda3/envs/camp/lib/python3.10/site-packages/catboost/core.py:1411: FutureWarning: iteritems is deprecated and will be removed in a future version. Use .items instead.\n",
      "  self._init_pool(data, label, cat_features, text_features, embedding_features, embedding_features_data, pairs, weight,\n",
      "\u001b[32m[I 2023-04-19 20:59:07,530]\u001b[0m Trial 48 finished with value: 2.1952760167561696 and parameters: {'iterations': 1355, 'od_wait': 39, 'learning_rate': 0.1395679164412493, 'reg_lambda': 3.07816503093375, 'subsample': 0.8317620313243111, 'random_strength': 39.571742147835685, 'depth': 9, 'min_data_in_leaf': 2, 'leaf_estimation_iterations': 15}. Best is trial 46 with value: 2.1914280120892213.\u001b[0m\n",
      "/Users/darrenkwon/miniconda3/envs/camp/lib/python3.10/site-packages/catboost/core.py:1411: FutureWarning: iteritems is deprecated and will be removed in a future version. Use .items instead.\n",
      "  self._init_pool(data, label, cat_features, text_features, embedding_features, embedding_features_data, pairs, weight,\n",
      "\u001b[32m[I 2023-04-19 21:01:02,040]\u001b[0m Trial 49 finished with value: 2.192928425115926 and parameters: {'iterations': 1393, 'od_wait': 34, 'learning_rate': 0.08963429120160998, 'reg_lambda': 3.4205038979279228, 'subsample': 0.8882328640941366, 'random_strength': 37.61615820891954, 'depth': 8, 'min_data_in_leaf': 1, 'leaf_estimation_iterations': 14}. Best is trial 46 with value: 2.1914280120892213.\u001b[0m\n"
     ]
    }
   ],
   "source": [
    "# random sampler\n",
    "sampler = TPESampler(seed=42)\n",
    "\n",
    "# define function\n",
    "def objective(trial):\n",
    "    # suggest_{type}: 범위 내의 {type}값 선택\n",
    "    \n",
    "    cbr_param = {\n",
    "        'iterations':trial.suggest_int(\"iterations\", 800, 1600),\n",
    "        'od_wait':trial.suggest_int('od_wait', 10, 50),\n",
    "        'learning_rate' : trial.suggest_float('learning_rate',0.005, 0.5),\n",
    "        'reg_lambda': trial.suggest_float('reg_lambda',0.1 ,10),\n",
    "        'subsample': trial.suggest_float('subsample',0,1),\n",
    "        'random_strength': trial.suggest_float('random_strength',10,50),\n",
    "        'depth': trial.suggest_int('depth',2, 10),\n",
    "        'min_data_in_leaf': trial.suggest_int('min_data_in_leaf',1,5),\n",
    "        'leaf_estimation_iterations': trial.suggest_int('leaf_estimation_iterations',1,15),\n",
    "        # 'bagging_temperature' :trial.suggest_float('bagging_temperature', 0.01, 100.00), \n",
    "        # 'colsample_bylevel':trial.suggest_float('colsample_bylevel', 0.4, 1.0),\n",
    "    }\n",
    "\n",
    "    # Generate model\n",
    "    cbr = CatBoostRegressor(**cbr_param, cat_features = list(X_train.columns))\n",
    "    cbr = cbr.fit(X_train, y_train, eval_set=[(X_val, y_val)], \n",
    "                           verbose=0, early_stopping_rounds=25)\n",
    "                           \n",
    "    # 평가지표 원하는 평가 지표가 있을 시 바꾸어 준다.\n",
    "    RMSE = mean_squared_error(y_val, cbr.predict(X_val), squared=False)\n",
    "    return RMSE\n",
    "\n",
    "optuna_cbr = optuna.create_study(direction='minimize', sampler=sampler)\n",
    "optuna_cbr.optimize(objective, n_trials=50)"
   ]
  },
  {
   "cell_type": "code",
   "execution_count": 39,
   "id": "2c08f7d4-13f6-4a35-af2c-e45fca4f0fe4",
   "metadata": {
    "tags": []
   },
   "outputs": [
    {
     "name": "stdout",
     "output_type": "stream",
     "text": [
      "Best Trial: score 2.1914280120892213,\n",
      "params {'iterations': 1383, 'od_wait': 40, 'learning_rate': 0.048874458688324886, 'reg_lambda': 3.491598561612883, 'subsample': 0.8356954568350058, 'random_strength': 39.72019974335227, 'depth': 8, 'min_data_in_leaf': 1, 'leaf_estimation_iterations': 14}\n"
     ]
    }
   ],
   "source": [
    "cbr_trial = optuna_cbr.best_trial\n",
    "cbr_trial_params = cbr_trial.params\n",
    "print('Best Trial: score {},\\nparams {}'.format(cbr_trial.value, cbr_trial_params))"
   ]
  },
  {
   "cell_type": "code",
   "execution_count": 40,
   "id": "6a1f65b7-8f0a-4d83-80bc-80f261cb8339",
   "metadata": {
    "tags": []
   },
   "outputs": [
    {
     "data": {
      "text/plain": [
       "{'iterations': 1383,\n",
       " 'od_wait': 40,\n",
       " 'learning_rate': 0.048874458688324886,\n",
       " 'reg_lambda': 3.491598561612883,\n",
       " 'subsample': 0.8356954568350058,\n",
       " 'random_strength': 39.72019974335227,\n",
       " 'depth': 8,\n",
       " 'min_data_in_leaf': 1,\n",
       " 'leaf_estimation_iterations': 14}"
      ]
     },
     "execution_count": 40,
     "metadata": {},
     "output_type": "execute_result"
    }
   ],
   "source": [
    "cbr_trial_params"
   ]
  },
  {
   "cell_type": "code",
   "execution_count": 41,
   "id": "7edf4d70-93b9-4fff-b1a4-6328d08326d9",
   "metadata": {
    "tags": []
   },
   "outputs": [
    {
     "name": "stderr",
     "output_type": "stream",
     "text": [
      "/Users/darrenkwon/miniconda3/envs/camp/lib/python3.10/site-packages/catboost/core.py:1411: FutureWarning: iteritems is deprecated and will be removed in a future version. Use .items instead.\n",
      "  self._init_pool(data, label, cat_features, text_features, embedding_features, embedding_features_data, pairs, weight,\n"
     ]
    }
   ],
   "source": [
    "# Modeling fit\n",
    "cbr = CatBoostRegressor(**cbr_trial_params, cat_features = list(X_train.drop(['age_bin', 'year_of_publication'], axis=1).columns), verbose=False)\n",
    "# cbr = CatBoostRegressor(**cbr_trial_params, verbose=False)\n",
    "cbr_study = cbr.fit(X_train, y_train)"
   ]
  },
  {
   "cell_type": "code",
   "execution_count": 42,
   "id": "d0cea931-bb71-4251-ae0f-d0b1ce4b8e76",
   "metadata": {
    "tags": []
   },
   "outputs": [
    {
     "name": "stderr",
     "output_type": "stream",
     "text": [
      "/Users/darrenkwon/miniconda3/envs/camp/lib/python3.10/site-packages/catboost/core.py:1411: FutureWarning: iteritems is deprecated and will be removed in a future version. Use .items instead.\n",
      "  self._init_pool(data, label, cat_features, text_features, embedding_features, embedding_features_data, pairs, weight,\n"
     ]
    }
   ],
   "source": [
    "y_pred = cbr_study.predict(test_df.drop(['user_id','isbn', 'rating'], axis=1)) \n",
    "submit = pd.DataFrame({'user_id': np.array(test_df.index), 'isbn': test_df['isbn'], 'rating': y_pred })\n",
    "now = datetime.now()\n",
    "submit.to_csv('./submit/submission_' + str(now) + '_catboost.csv', index=False)"
   ]
  },
  {
   "cell_type": "code",
   "execution_count": 43,
   "id": "d1b81907-2140-4f33-9fc0-d3e69d22f8b3",
   "metadata": {
    "tags": []
   },
   "outputs": [
    {
     "data": {
      "text/plain": [
       "{'city': 26.463785709040568,\n",
       " 'state': 9.690552561850126,\n",
       " 'country': 6.312690317444285,\n",
       " 'age_bin': 9.860203796896554,\n",
       " 'book_author': 15.784783256618164,\n",
       " 'year_of_publication': 3.799621197071933,\n",
       " 'publisher': 12.67359795453161,\n",
       " 'major_cat': 9.553973542252189,\n",
       " 'isbn_area': 5.860791664294598}"
      ]
     },
     "execution_count": 43,
     "metadata": {},
     "output_type": "execute_result"
    }
   ],
   "source": [
    "dict(zip(list(X_train.columns), cbr.feature_importances_))"
   ]
  },
  {
   "cell_type": "code",
   "execution_count": null,
   "id": "ddbf5f7d",
   "metadata": {},
   "outputs": [],
   "source": []
  }
 ],
 "metadata": {
  "kernelspec": {
   "display_name": "Python 3 (ipykernel)",
   "language": "python",
   "name": "python3"
  },
  "language_info": {
   "codemirror_mode": {
    "name": "ipython",
    "version": 3
   },
   "file_extension": ".py",
   "mimetype": "text/x-python",
   "name": "python",
   "nbconvert_exporter": "python",
   "pygments_lexer": "ipython3",
   "version": "3.10.8"
  },
  "toc": {
   "base_numbering": 1,
   "nav_menu": {},
   "number_sections": true,
   "sideBar": true,
   "skip_h1_title": false,
   "title_cell": "Table of Contents",
   "title_sidebar": "Contents",
   "toc_cell": false,
   "toc_position": {},
   "toc_section_display": true,
   "toc_window_display": false
  },
  "varInspector": {
   "cols": {
    "lenName": 16,
    "lenType": 16,
    "lenVar": 40
   },
   "kernels_config": {
    "python": {
     "delete_cmd_postfix": "",
     "delete_cmd_prefix": "del ",
     "library": "var_list.py",
     "varRefreshCmd": "print(var_dic_list())"
    },
    "r": {
     "delete_cmd_postfix": ") ",
     "delete_cmd_prefix": "rm(",
     "library": "var_list.r",
     "varRefreshCmd": "cat(var_dic_list()) "
    }
   },
   "types_to_exclude": [
    "module",
    "function",
    "builtin_function_or_method",
    "instance",
    "_Feature"
   ],
   "window_display": false
  }
 },
 "nbformat": 4,
 "nbformat_minor": 5
}
